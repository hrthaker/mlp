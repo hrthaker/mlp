{
 "cells": [
  {
   "cell_type": "markdown",
   "metadata": {},
   "source": [
    "# Machine Learning with Python \n",
    "## Regression : Supervised Learning\n",
    "### Preprocessing Techniques \n",
    "- sklearn/preprocessing package is used"
   ]
  },
  {
   "cell_type": "code",
   "execution_count": 4,
   "metadata": {},
   "outputs": [],
   "source": [
    "import numpy as np\n",
    "from sklearn import preprocessing"
   ]
  },
  {
   "cell_type": "code",
   "execution_count": 2,
   "metadata": {},
   "outputs": [
    {
     "data": {
      "text/plain": [
       "array([[ 3. , -1.5,  2. , -5.4],\n",
       "       [ 0. ,  4. , -0.3,  2.1],\n",
       "       [ 1. ,  3.3, -1.9, -4.3]])"
      ]
     },
     "execution_count": 2,
     "metadata": {},
     "output_type": "execute_result"
    }
   ],
   "source": [
    "data=np.array([[3,-1.5,2,-5.4],[0,4,-0.3,2.1],[1,3.3,-1.9,-4.3]])\n",
    "data"
   ]
  },
  {
   "cell_type": "markdown",
   "metadata": {},
   "source": [
    "#### Mean Removal\n",
    "- Purpose : It involves removing the mean from each feature so that it is centered on zero. Mean removal helps in removing any bias from the features.\n",
    "- Function : preprocessing.scale(data)\n",
    "- Outcome : mean is centered to 0, std is centered to 1"
   ]
  },
  {
   "cell_type": "code",
   "execution_count": 7,
   "metadata": {},
   "outputs": [
    {
     "name": "stdout",
     "output_type": "stream",
     "text": [
      "Standard Deviation and Mean of original Data\n",
      "[ 1.33333333  1.93333333 -0.06666667 -2.53333333]\n",
      "[1.24721913 2.44449495 1.60069429 3.30689515]\n",
      "================================================================================\n",
      "Standard Deviation and Mean of data after mean removal operation\n",
      "================================================================================\n",
      "[ 5.55111512e-17 -1.11022302e-16 -7.40148683e-17 -7.40148683e-17]\n",
      "[1. 1. 1. 1.]\n"
     ]
    }
   ],
   "source": [
    "ndata = preprocessing.scale(data)\n",
    "print(\"Standard Deviation and Mean of original Data\")\n",
    "print(data.mean(axis=0))\n",
    "print(data.std(axis=0))\n",
    "print (\"=\" * 80)\n",
    "print(\"Standard Deviation and Mean of data after mean removal operation\")\n",
    "print (\"=\" * 80)\n",
    "print(ndata.mean(axis=0))\n",
    "print(ndata.std(axis=0))"
   ]
  },
  {
   "cell_type": "markdown",
   "metadata": {},
   "source": [
    "#### Scaling\n",
    "- Purpose : Scaling is used to make features to lie between a given minimum and maximum value, often between zero and one, or so that the maximum absolute value of each feature is scaled to unit size. This can be achieved using MinMaxScaler, to very small standard deviations of features and preserving zero entries in sparse data.\n",
    "- Outcome : Data are either scale up / down depending on the range"
   ]
  },
  {
   "cell_type": "code",
   "execution_count": 8,
   "metadata": {},
   "outputs": [
    {
     "name": "stdout",
     "output_type": "stream",
     "text": [
      "Original Data\n",
      "[[ 3.  -1.5  2.  -5.4]\n",
      " [ 0.   4.  -0.3  2.1]\n",
      " [ 1.   3.3 -1.9 -4.3]]\n",
      "==================================================\n",
      "Data after Scaline operation\n",
      "==================================================\n",
      "[[1.         0.         1.         0.        ]\n",
      " [0.         1.         0.41025641 1.        ]\n",
      " [0.33333333 0.87272727 0.         0.14666667]]\n"
     ]
    }
   ],
   "source": [
    "ndata = (preprocessing.MinMaxScaler(feature_range=(0,1))).fit_transform(data)\n",
    "print(\"Original Data\")\n",
    "print(data)\n",
    "print (\"=\" * 50)\n",
    "print(\"Data after Scaline operation\")\n",
    "print (\"=\" * 50)\n",
    "print(ndata)"
   ]
  },
  {
   "cell_type": "markdown",
   "metadata": {},
   "source": [
    "### Normalization\n",
    "- Purpose : Normalization is the process of scaling individual samples to have unit norm. "
   ]
  },
  {
   "cell_type": "code",
   "execution_count": 10,
   "metadata": {},
   "outputs": [
    {
     "name": "stdout",
     "output_type": "stream",
     "text": [
      "Original Data\n",
      "[[ 3.  -1.5  2.  -5.4]\n",
      " [ 0.   4.  -0.3  2.1]\n",
      " [ 1.   3.3 -1.9 -4.3]]\n",
      "==================================================\n",
      "Data after Normalization operation\n",
      "==================================================\n",
      "[[ 0.25210084 -0.12605042  0.16806723 -0.45378151]\n",
      " [ 0.          0.625      -0.046875    0.328125  ]\n",
      " [ 0.0952381   0.31428571 -0.18095238 -0.40952381]]\n"
     ]
    }
   ],
   "source": [
    "ndata = preprocessing.normalize(data,norm=\"l1\")\n",
    "print(\"Original Data\")\n",
    "print(data)\n",
    "print (\"=\" * 50)\n",
    "print(\"Data after Normalization operation\")\n",
    "print (\"=\" * 50)\n",
    "print(ndata)"
   ]
  },
  {
   "cell_type": "markdown",
   "metadata": {},
   "source": [
    "### Binarization\n",
    "- Purpose : binarization is the process of thresholding numerical features to get boolean values."
   ]
  },
  {
   "cell_type": "code",
   "execution_count": 11,
   "metadata": {},
   "outputs": [
    {
     "name": "stdout",
     "output_type": "stream",
     "text": [
      "Original Data\n",
      "[[ 3.  -1.5  2.  -5.4]\n",
      " [ 0.   4.  -0.3  2.1]\n",
      " [ 1.   3.3 -1.9 -4.3]]\n",
      "==================================================\n",
      "Data after Binarization operation\n",
      "==================================================\n",
      "[[1. 0. 1. 0.]\n",
      " [0. 1. 0. 1.]\n",
      " [1. 1. 0. 0.]]\n"
     ]
    }
   ],
   "source": [
    "ndata = preprocessing.Binarizer().transform(data)\n",
    "print(\"Original Data\")\n",
    "print(data)\n",
    "print (\"=\" * 50)\n",
    "print(\"Data after Binarization operation\")\n",
    "print (\"=\" * 50)\n",
    "print(ndata)"
   ]
  },
  {
   "cell_type": "markdown",
   "metadata": {},
   "source": [
    "### One Hot Encoding"
   ]
  },
  {
   "cell_type": "code",
   "execution_count": 5,
   "metadata": {},
   "outputs": [
    {
     "data": {
      "text/plain": [
       "array([[1., 0., 0., 1., 0., 1.],\n",
       "       [0., 1., 1., 0., 0., 1.]])"
      ]
     },
     "execution_count": 5,
     "metadata": {},
     "output_type": "execute_result"
    }
   ],
   "source": [
    "encoder = preprocessing.OneHotEncoder()\n",
    "X = [['male', 'from US', 'uses Safari'], ['female', 'from Europe', 'uses Firefox']]\n",
    "encoder.fit(X) \n",
    "encoder.transform([['female', 'from US', 'uses Safari'],\n",
    "               ['male', 'from Europe', 'uses Safari']]).toarray()"
   ]
  },
  {
   "cell_type": "markdown",
   "metadata": {},
   "source": [
    "### Label Encoding"
   ]
  },
  {
   "cell_type": "code",
   "execution_count": 7,
   "metadata": {},
   "outputs": [
    {
     "name": "stdout",
     "output_type": "stream",
     "text": [
      "Label Encoding :  [0 0 1 2]\n",
      "Reverse Encoding:  [1 1 2 6]\n"
     ]
    }
   ],
   "source": [
    "le = preprocessing.LabelEncoder()\n",
    "le.fit([1, 2, 2, 6])\n",
    "print (\"Label Encoding : \",le.transform([1, 1, 2, 6]))\n",
    "print (\"Reverse Encoding: \",le.inverse_transform([0, 0, 1, 2]))"
   ]
  },
  {
   "cell_type": "code",
   "execution_count": 8,
   "metadata": {},
   "outputs": [
    {
     "name": "stdout",
     "output_type": "stream",
     "text": [
      "Label Encoding:  [2 2 1]\n",
      "Reverse Encoding:  ['tokyo', 'tokyo', 'paris']\n"
     ]
    }
   ],
   "source": [
    "le = preprocessing.LabelEncoder()\n",
    "le.fit([\"paris\", \"paris\", \"tokyo\", \"amsterdam\"])\n",
    "print (\"Label Encoding: \",le.transform([\"tokyo\", \"tokyo\", \"paris\"])) \n",
    "print (\"Reverse Encoding: \",list(le.inverse_transform([2, 2, 1])))"
   ]
  },
  {
   "cell_type": "markdown",
   "metadata": {},
   "source": [
    "### Building linear regressor model for predicting value"
   ]
  },
  {
   "cell_type": "markdown",
   "metadata": {},
   "source": [
    "**1) Read Data from File**"
   ]
  },
  {
   "cell_type": "code",
   "execution_count": 15,
   "metadata": {},
   "outputs": [
    {
     "name": "stdout",
     "output_type": "stream",
     "text": [
      "[4.94, -1.58, -4.45, -6.06, -1.22, -3.55, 0.36, -3.24, 1.31, 2.17, 2.94, -0.92, -0.91, 1.24, 1.56, -4.14, 3.75, 4.15, 0.33, 3.41, 2.27, 2.6, 1.06, 1.04, 2.74, -0.71, -2.75, 0.55, -3.45, 1.09, 2.47, -6.35, 1.83, -0.68, -3.83, -2.03, 3.13, 0.92, 4.02, 3.89, -1.81, 3.94, -2.0, 0.54, 0.78, 2.15, 2.55, -0.63, 1.06, -0.36, 4.94, -1.58, -4.45, -6.06, -1.22, -3.55, 0.36, -3.24, 1.31, 2.17, 2.94, -0.92, -0.91, 1.24, 1.56, -4.14, 3.75, 4.15, 0.33, 3.41, 2.27, 2.6, 1.06, 1.04, 2.74, -0.71, -2.75, 0.55, -3.45, 1.09, 2.47, -6.35, 1.83, -0.68, -3.83, -2.03, 3.13, 0.92, 4.02, 3.89, -1.81, 3.94, -2.0, 0.54, 0.78, 2.15, 2.55, -0.63, 1.06, -0.36]\n",
      "==============================================================================================================\n",
      "[4.37, 1.7, 1.88, 0.56, 2.23, 1.53, 2.99, 0.48, 2.76, 3.99, 3.25, 2.27, 2.0, 4.75, 3.52, 1.39, 4.9, 4.44, 2.72, 4.59, 5.3, 3.43, 2.53, 3.69, 3.1, 2.72, 2.82, 3.53, 1.77, 4.61, 4.24, 1.0, 3.84, 2.42, 0.67, 1.07, 3.19, 4.21, 5.24, 3.94, 2.85, 4.86, 1.31, 3.99, 2.92, 4.72, 3.83, 2.58, 2.89, 1.99, 4.37, 1.7, 1.88, 0.56, 2.23, 1.53, 2.99, 0.48, 2.76, 3.99, 3.25, 2.27, 2.0, 4.75, 3.52, 1.39, 4.9, 4.44, 2.72, 4.59, 5.3, 3.43, 2.53, 3.69, 3.1, 2.72, 2.82, 3.53, 1.77, 4.61, 4.24, 1.0, 3.84, 2.42, 0.67, 1.07, 3.19, 4.21, 5.24, 3.94, 2.85, 4.86, 1.31, 3.99, 2.92, 4.72, 3.83, 2.58, 2.89, 1.99]\n"
     ]
    }
   ],
   "source": [
    "x=[]\n",
    "y=[]\n",
    "fnm = \"data_singlevar.txt\"\n",
    "with open(fnm,'r') as f:\n",
    "    for line in f.readlines():\n",
    "        xt,yt = [float(i) for i in line.split(',')]\n",
    "        x.append(xt)\n",
    "        y.append(yt)\n",
    "print(x)\n",
    "print (\"=\" * 110)\n",
    "print(y)"
   ]
  },
  {
   "cell_type": "markdown",
   "metadata": {},
   "source": [
    "**2) Split original dataset into two parts**\n",
    "- training dataset\n",
    "- testing dataset"
   ]
  },
  {
   "cell_type": "code",
   "execution_count": 61,
   "metadata": {},
   "outputs": [
    {
     "name": "stdout",
     "output_type": "stream",
     "text": [
      "No. of Training dataset:  80\n",
      "No. of Testing dataset:  20\n",
      "[[ 4.94]\n",
      " [-1.58]\n",
      " [-4.45]\n",
      " [-6.06]\n",
      " [-1.22]\n",
      " [-3.55]\n",
      " [ 0.36]\n",
      " [-3.24]\n",
      " [ 1.31]\n",
      " [ 2.17]\n",
      " [ 2.94]\n",
      " [-0.92]\n",
      " [-0.91]\n",
      " [ 1.24]\n",
      " [ 1.56]\n",
      " [-4.14]\n",
      " [ 3.75]\n",
      " [ 4.15]\n",
      " [ 0.33]\n",
      " [ 3.41]]\n"
     ]
    }
   ],
   "source": [
    "#### Determine ration #################################\n",
    "ntrain = int(0.8 * len(x)) # 80% training dataset\n",
    "ntest = len(x) - ntrain # 20% testing dataset\n",
    "print (\"No. of Training dataset: \",ntrain)\n",
    "print (\"No. of Testing dataset: \", ntest)\n",
    "########### seperate training data from original data in both x and y ##########################\n",
    "xtrain = np.array(x[:ntrain]).reshape((ntrain,1))\n",
    "ytrain = np.array(y[:ntrain])\n",
    "########### seperate testing data from original data in both x and y ##########################\n",
    "xtest = np.array(x[:ntest]).reshape((ntest,1))\n",
    "ytest = np.array(y[:ntest])\n",
    "print (xtest)"
   ]
  },
  {
   "cell_type": "code",
   "execution_count": 57,
   "metadata": {},
   "outputs": [],
   "source": [
    "from sklearn import model_selection\n",
    "xtrain, xtest, ytrain, ytest = model_selection.train_test_split(x, y, test_size=0.2)\n",
    "xtrain = np.array(xtrain).reshape((ntrain,1))\n",
    "xtest = np.array(xtest).reshape((ntest,1))"
   ]
  },
  {
   "cell_type": "markdown",
   "metadata": {},
   "source": [
    "**3) Train Model**"
   ]
  },
  {
   "cell_type": "code",
   "execution_count": 60,
   "metadata": {},
   "outputs": [
    {
     "name": "stdout",
     "output_type": "stream",
     "text": [
      "Intercept :  2.92526803028878\n",
      "Coefficient :  [0.39563311]\n"
     ]
    }
   ],
   "source": [
    "from sklearn import linear_model\n",
    "lr = linear_model.LinearRegression()\n",
    "lr.fit(xtrain,ytrain)\n",
    "print (\"Intercept : \",lr.intercept_)\n",
    "print (\"Coefficient : \",lr.coef_)"
   ]
  },
  {
   "cell_type": "markdown",
   "metadata": {},
   "source": [
    "**4) Apply regressor model to testing dataset**"
   ]
  },
  {
   "cell_type": "code",
   "execution_count": 38,
   "metadata": {},
   "outputs": [
    {
     "data": {
      "image/png": "[encoded data removed]",
      "text/plain": [
       "<Figure size 432x288 with 1 Axes>"
      ]
     },
     "metadata": {
      "needs_background": "light"
     },
     "output_type": "display_data"
    }
   ],
   "source": [
    "import matplotlib.pyplot as plt\n",
    "ytest_predicted = lr.predict(xtest)\n",
    "plt.scatter(xtest,ytest,color='green')\n",
    "plt.plot(xtest,ytest_predicted,color='black',linewidth=4)\n",
    "plt.title(\"Training Data\")\n",
    "plt.show()"
   ]
  },
  {
   "cell_type": "markdown",
   "metadata": {},
   "source": [
    "**5) Determine/Evaluate Regression Accuracy**"
   ]
  },
  {
   "cell_type": "code",
   "execution_count": 40,
   "metadata": {},
   "outputs": [
    {
     "name": "stdout",
     "output_type": "stream",
     "text": [
      "Mean Absolute Error :  0.43\n",
      "Mean Squared Error :  0.32\n",
      "Median Absolute Error :  0.33\n",
      "Explained Variance Score :  0.83\n",
      "R^2 Score:  0.82\n"
     ]
    }
   ],
   "source": [
    "import sklearn.metrics as sm\n",
    "print (\"Mean Absolute Error : \", round(sm.mean_absolute_error(ytest,ytest_predicted),2))\n",
    "print (\"Mean Squared Error : \",round(sm.mean_squared_error(ytest,ytest_predicted),2))\n",
    "print (\"Median Absolute Error : \",round(sm.median_absolute_error(ytest,ytest_predicted),2))\n",
    "print (\"Explained Variance Score : \",round(sm.explained_variance_score(ytest,ytest_predicted),2))\n",
    "print (\"R^2 Score: \", round(sm.r2_score(ytest,ytest_predicted),2))"
   ]
  },
  {
   "cell_type": "markdown",
   "metadata": {},
   "source": [
    "**6) Saving Model (Persistence)**"
   ]
  },
  {
   "cell_type": "code",
   "execution_count": 47,
   "metadata": {},
   "outputs": [],
   "source": [
    "import pickle\n",
    "fnm = 'output_model.pkl'\n",
    "pickle.dump(lr, open(fnm, 'wb'))"
   ]
  },
  {
   "cell_type": "markdown",
   "metadata": {},
   "source": [
    "**7) Load saved Model for predicting data**"
   ]
  },
  {
   "cell_type": "code",
   "execution_count": 49,
   "metadata": {},
   "outputs": [
    {
     "name": "stdout",
     "output_type": "stream",
     "text": [
      "Mean Absolute Error :  0.43\n",
      "Mean Squared Error :  0.32\n",
      "Median Absolute Error :  0.33\n",
      "Explained Variance Score :  0.83\n",
      "R^2 Score:  0.82\n"
     ]
    }
   ],
   "source": [
    "llr = pickle.load(open(fnm, 'rb'))\n",
    "ytest_predicted_new = llr.predict(xtest)\n",
    "print (\"Mean Absolute Error : \", round(sm.mean_absolute_error(ytest,ytest_predicted_new),2))\n",
    "print (\"Mean Squared Error : \",round(sm.mean_squared_error(ytest,ytest_predicted_new),2))\n",
    "print (\"Median Absolute Error : \",round(sm.median_absolute_error(ytest,ytest_predicted_new),2))\n",
    "print (\"Explained Variance Score : \",round(sm.explained_variance_score(ytest,ytest_predicted_new),2))\n",
    "print (\"R^2 Score: \", round(sm.r2_score(ytest,ytest_predicted_new),2))"
   ]
  },
  {
   "cell_type": "code",
   "execution_count": null,
   "metadata": {},
   "outputs": [],
   "source": []
  }
 ],
 "metadata": {
  "kernelspec": {
   "display_name": "Python 3",
   "language": "python",
   "name": "python3"
  },
  "language_info": {
   "codemirror_mode": {
    "name": "ipython",
    "version": 3
   },
   "file_extension": ".py",
   "mimetype": "text/x-python",
   "name": "python",
   "nbconvert_exporter": "python",
   "pygments_lexer": "ipython3",
   "version": "3.7.0"
  }
 },
 "nbformat": 4,
 "nbformat_minor": 2
}
